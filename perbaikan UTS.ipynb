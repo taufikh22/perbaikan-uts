{
 "cells": [
  {
   "cell_type": "code",
   "execution_count": 1,
   "id": "f05405c6",
   "metadata": {},
   "outputs": [
    {
     "name": "stdout",
     "output_type": "stream",
     "text": [
      "masukan email : taufikhidayat@gmail.com\n",
      "True\n"
     ]
    }
   ],
   "source": [
    "email = input (\"masukan email : \")\n",
    "post_at = 0\n",
    "post_titik = 0\n",
    "post_at = email.find('@')\n",
    "post_titik = email.find('.')\n",
    "print (post_at < post_titik)"
   ]
  },
  {
   "cell_type": "code",
   "execution_count": 2,
   "id": "a852513d",
   "metadata": {},
   "outputs": [
    {
     "name": "stdout",
     "output_type": "stream",
     "text": [
      "masukan kalimat :looping for digunakan ketika sudah diketahui batas awal dan batas akhir\n",
      "7ooping for digun4k4n k3tik4 sud4h dik3t4hui b4t4s 4w47 d4n b4t4s 4khir\n"
     ]
    }
   ],
   "source": [
    "kalimat = input(\"masukan kalimat :\")\n",
    "i = 0\n",
    "kata = ''\n",
    "for i in range (len(kalimat)):\n",
    "    if kalimat [i] == \"a\" or kalimat [i] == \"A\":\n",
    "        kata = kata + \"4\"\n",
    "    elif kalimat [i] == \"e\" or kalimat [i] == \"E\":\n",
    "        kata = kata + \"3\"\n",
    "    elif kalimat [i] == \"l\":\n",
    "        kata = kata + \"7\"\n",
    "    elif kalimat [i] == \"S\":\n",
    "        kata = kata + \"5\"\n",
    "    else:\n",
    "        kata = kata + kalimat [i]\n",
    "print(kata)"
   ]
  },
  {
   "cell_type": "code",
   "execution_count": null,
   "id": "80cec835",
   "metadata": {},
   "outputs": [],
   "source": []
  }
 ],
 "metadata": {
  "kernelspec": {
   "display_name": "Python 3 (ipykernel)",
   "language": "python",
   "name": "python3"
  },
  "language_info": {
   "codemirror_mode": {
    "name": "ipython",
    "version": 3
   },
   "file_extension": ".py",
   "mimetype": "text/x-python",
   "name": "python",
   "nbconvert_exporter": "python",
   "pygments_lexer": "ipython3",
   "version": "3.9.12"
  }
 },
 "nbformat": 4,
 "nbformat_minor": 5
}
